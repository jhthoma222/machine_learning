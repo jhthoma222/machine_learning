{
 "cells": [
  {
   "cell_type": "code",
   "execution_count": 2,
   "metadata": {},
   "outputs": [
    {
     "name": "stdout",
     "output_type": "stream",
     "text": [
      "[0.0, 0.4166666666666667, 1.0]\n"
     ]
    }
   ],
   "source": [
    "\"\"\" quiz materials for feature scaling clustering \"\"\"\n",
    "\n",
    "### FYI, the most straightforward implementation might \n",
    "### throw a divide-by-zero error, if the min and max\n",
    "### values are the same\n",
    "### but think about this for a second--that means that every\n",
    "### data point has the same value for that feature!  \n",
    "### why would you rescale it?  Or even use it at all?\n",
    "def featureScaling(arr):\n",
    "  nmax = max(data)\n",
    "  nmin = min(data)\n",
    "  if (nmax == nmin):\n",
    "      return None\n",
    "  normalize = nmax - nmin\n",
    "  return [float(e-nmin)/normalize for e in data ]\n",
    "   \n",
    "\n",
    "# tests of your feature scaler--line below is input data\n",
    "data = [115, 140, 175]\n",
    "print featureScaling(data)\n"
   ]
  },
  {
   "cell_type": "code",
   "execution_count": 15,
   "metadata": {},
   "outputs": [
    {
     "name": "stdout",
     "output_type": "stream",
     "text": [
      "[477.0, 200000.0, 1111258.0]\n",
      "[17378.0, 1000000.0, 34348384.0]\n",
      "[[0.        ]\n",
      " [0.17962407]\n",
      " [1.        ]]\n",
      "[[0.      ]\n",
      " [0.028622]\n",
      " [1.      ]]\n"
     ]
    }
   ],
   "source": [
    "\"\"\"\n",
    "Apply feature scaling to your k-means clustering code from the last lesson, on the “salary” and “exercised_stock_options” \n",
    "features (use only these two features). What would be the rescaled value of a \"salary\" feature that had an original value of \n",
    "$200,000, and an \"exercised_stock_options\" feature of $1 million? (Be sure to represent these numbers as floats, not integers!)\n",
    "\n",
    "\"\"\"\n",
    "\n",
    "#!/usr/bin/python \n",
    "\n",
    "\"\"\" \n",
    "    Skeleton code for k-means clustering mini-project.\n",
    "\"\"\"\n",
    "\n",
    "\n",
    "\n",
    "\n",
    "import pickle\n",
    "import numpy\n",
    "import matplotlib.pyplot as plt\n",
    "import sys\n",
    "sys.path.append(\"../tools/\")\n",
    "from feature_format import featureFormat, targetFeatureSplit\n",
    "\n",
    "\n",
    "### load in the dict of dicts containing all the data on each person in the dataset\n",
    "data_dict = pickle.load(open(\n",
    "    \"D:/Desktop/WGU Projects/data_analyst_nanodegree/machine_learning/ud120-projects-master/final_project/final_project_dataset.pkl\", \n",
    "    \"r\"))\n",
    "### there's an outlier--remove it! \n",
    "data_dict.pop(\"TOTAL\", 0)\n",
    "\n",
    "salary = []\n",
    "ex_stock_options = []\n",
    "for users in data_dict:\n",
    "    val = data_dict[users][\"salary\"]\n",
    "    if val == 'NaN':\n",
    "        continue\n",
    "    salary.append(float(val))\n",
    "    val = data_dict[users][\"exercised_stock_options\"]\n",
    "    if val == 'NaN':\n",
    "        continue\n",
    "    ex_stock_options.append(float(val))\n",
    "    \n",
    "salary = [min(salary),200000.0, max(salary)]\n",
    "ex_stock_options = [min(ex_stock_options), 1000000.0, max(ex_stock_options)]\n",
    "\n",
    "print salary\n",
    "print ex_stock_options\n",
    "\n",
    "salary = numpy.array([[s] for s in salary])\n",
    "ex_stock_options = numpy.array([[e] for e in ex_stock_options])\n",
    "\n",
    "scaler_salary = MinMaxScaler()\n",
    "scaler_stok = MinMaxScaler()\n",
    "\n",
    "rescaled_salary = scaler_salary.fit_transform(salary)\n",
    "rescaled_stock = scaler_salary.fit_transform(ex_stock_options)\n",
    "\n",
    "print rescaled_salary\n",
    "print rescaled_stock"
   ]
  },
  {
   "cell_type": "code",
   "execution_count": null,
   "metadata": {},
   "outputs": [],
   "source": []
  }
 ],
 "metadata": {
  "kernelspec": {
   "display_name": "Python [conda env:Python 2]",
   "language": "python",
   "name": "conda-env-Python_2-py"
  },
  "language_info": {
   "codemirror_mode": {
    "name": "ipython",
    "version": 2
   },
   "file_extension": ".py",
   "mimetype": "text/x-python",
   "name": "python",
   "nbconvert_exporter": "python",
   "pygments_lexer": "ipython2",
   "version": "2.7.17"
  }
 },
 "nbformat": 4,
 "nbformat_minor": 2
}
